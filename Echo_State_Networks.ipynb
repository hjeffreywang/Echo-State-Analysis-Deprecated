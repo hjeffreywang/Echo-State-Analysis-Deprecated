{
 "cells": [
  {
   "cell_type": "markdown",
   "metadata": {},
   "source": [
    "### Overview\n",
    "In this notebook we study the formulation of the Reservoir Computing (RC) RNN. As an archetypal example, the RC implementation in time series for the Mackey-Glass chaotic system is recommended as a reference to this guide. This example can be found in the seminal paper: http://www.rctn.org/vs265/jaeger04-ESN.pdf; we encourage you to read this publication.\n",
    "\n",
    "In this notebook, for the implementation of the RC we will use the library \"pyESN\" which is available in https://github.com/cknd/pyESN. In the same directory, you can find the Mackey-Glass example that was discussed in the class. We encourage you to explore this library.\n",
    "\n",
    "We will employ the RC network to predict stock market prices. We will utilize time series data for the daily Amazon stock price (file: \"amazon.txt\"). You should study the Mackey-Glass example (mackey.ipynb) and then apply the RC for predicting the Amazon price.\n",
    "\n",
    "You can observe that the input is a vetor of ones, so there is not input function. In this case the prediction is not a response to the previous signal. Essentially, the network is learning the pattern of the history (training set) and trying to make predictions based on that. That approach works pretty well because RC prerforms well in pattern recognition and analysis tasks.\n",
    "\n",
    "We will predict 100 future time points by using the previous 1500 prices. As we discussed, RC is very sensitive to the hyper-parameter. So, you have to find the optimal set of hyper-parameter that gives the best predictions. For convenience, we are optimizing just two of the hyper-parameter, the spectrum radius  and a regularization term (noise). In particular, it adds noise in the hidden units to avoid the overfitting during the learning. The rest hyper-parameters are given.\n",
    "\n",
    "The goals of this notebook are for you to:\n",
    "1. learn the mechanics of RC\n",
    "2. confirm that RC training is fast\n",
    "3. learn how to use RC for forecasting\n",
    "4. acknowledge that RC is sensitive to hyper-parameters (no free lunch)\n",
    "5. learn how to optimize hyper-parameters of RC\n",
    "6. evaluate RC forecasting"
   ]
  },
  {
   "cell_type": "code",
   "execution_count": 2,
   "metadata": {},
   "outputs": [
    {
     "data": {
      "text/html": [
       "<style>\n",
       "blockquote { background: #AEDE94; }\n",
       "h1 { \n",
       "    padding-top: 25px;\n",
       "    padding-bottom: 25px;\n",
       "    text-align: left; \n",
       "    padding-left: 10px;\n",
       "    background-color: #DDDDDD; \n",
       "    color: black;\n",
       "}\n",
       "h2 { \n",
       "    padding-top: 10px;\n",
       "    padding-bottom: 10px;\n",
       "    text-align: left; \n",
       "    padding-left: 5px;\n",
       "    background-color: #EEEEEE; \n",
       "    color: black;\n",
       "}\n",
       "\n",
       "div.exercise {\n",
       "\tbackground-color: #ffcccc;\n",
       "\tborder-color: #E9967A; \t\n",
       "\tborder-left: 5px solid #800080; \n",
       "\tpadding: 0.5em;\n",
       "}\n",
       "\n",
       "div.exercise-r {\n",
       "\tbackground-color: #fce8e8;\n",
       "\tborder-color: #E9967A; \t\n",
       "\tborder-left: 5px solid #800080; \n",
       "\tpadding: 0.5em;\n",
       "}\n",
       "\n",
       "\n",
       "span.sub-q {\n",
       "\tfont-weight: bold;\n",
       "}\n",
       "div.theme {\n",
       "\tbackground-color: #DDDDDD;\n",
       "\tborder-color: #E9967A; \t\n",
       "\tborder-left: 5px solid #800080; \n",
       "\tpadding: 0.5em;\n",
       "\tfont-size: 18pt;\n",
       "}\n",
       "div.gc { \n",
       "\tbackground-color: #AEDE94;\n",
       "\tborder-color: #E9967A; \t \n",
       "\tborder-left: 5px solid #800080; \n",
       "\tpadding: 0.5em;\n",
       "\tfont-size: 12pt;\n",
       "}\n",
       "p.q1 { \n",
       "    padding-top: 5px;\n",
       "    padding-bottom: 5px;\n",
       "    text-align: left; \n",
       "    padding-left: 5px;\n",
       "    background-color: #EEEEEE; \n",
       "    color: black;\n",
       "}\n",
       "header {\n",
       "   padding-top: 35px;\n",
       "    padding-bottom: 35px;\n",
       "    text-align: left; \n",
       "    padding-left: 10px;\n",
       "    background-color: #DDDDDD; \n",
       "    color: black;\n",
       "}\n",
       "</style>\n",
       "\n"
      ],
      "text/plain": [
       "<IPython.core.display.HTML object>"
      ]
     },
     "execution_count": 2,
     "metadata": {},
     "output_type": "execute_result"
    }
   ],
   "source": [
    "import requests\n",
    "from IPython.core.display import HTML\n",
    "styles = requests.get(\"https://raw.githubusercontent.com/Harvard-IACS/2018-CS109A/master/content/styles/cs109.css\").text\n",
    "HTML(styles)"
   ]
  },
  {
   "cell_type": "markdown",
   "metadata": {},
   "source": [
    "### Overview for the pyESN library for the RC implementation\n",
    "\n",
    "\n",
    "#### You call the RC as:\n",
    "esn = ESN(n_inputs = 1, <br>\n",
    " $\\quad$ $\\quad$     n_outputs = #, <br>\n",
    " $\\quad$ $\\quad$     n_reservoir = #,<br>\n",
    " $\\quad$ $\\quad$     sparsity= #,<br>\n",
    " $\\quad$ $\\quad$     random_state= #, <br>\n",
    " $\\quad$ $\\quad$     spectral_radius = #,<br>\n",
    " $\\quad$ $\\quad$     noise= #)\n",
    "<br> where # denotes the value that you choose.\n",
    "\n",
    "##### Brief explanation of the parameters:\n",
    "n_inputs: number of input dimensions <br>\n",
    "n_outputs: numberr of output dimensions <br>\n",
    "n_reservoir: number of reservoir neurons <br> \n",
    "random_state: seed for the random generator<br>\n",
    "sparsity: proportion of recurrent weights set to zero <br>\n",
    "spectral_radius: spectral radius of the recurrent weight matrix <br>\n",
    "noise: noise added to each neuron (regularization) <br>\n"
   ]
  },
  {
   "cell_type": "code",
   "execution_count": 3,
   "metadata": {},
   "outputs": [],
   "source": [
    "import numpy as np\n",
    "import pandas as pd\n",
    "import seaborn as sns\n",
    "from matplotlib import pyplot as plt\n",
    "import warnings\n",
    "warnings.filterwarnings('ignore')\n",
    "\n",
    "# This is the library for the Reservoir Computing got it by: https://github.com/cknd/pyESN\n",
    "from pyESN import ESN \n",
    "%matplotlib inline"
   ]
  },
  {
   "cell_type": "markdown",
   "metadata": {},
   "source": [
    "### Read the data"
   ]
  },
  {
   "cell_type": "markdown",
   "metadata": {},
   "source": [
    "Read your dataset from the file amazon.txt"
   ]
  },
  {
   "cell_type": "code",
   "execution_count": 4,
   "metadata": {},
   "outputs": [],
   "source": [
    "# Read dataset amazon.txt\n",
    "data = open(\"amazon.txt\").read().split()\n",
    "data = np.array(data).astype('float64')"
   ]
  },
  {
   "cell_type": "code",
   "execution_count": 5,
   "metadata": {},
   "outputs": [
    {
     "data": {
      "text/plain": [
       "array([133.9 , 134.69, 132.25, ..., 852.19, 845.24, 848.64])"
      ]
     },
     "execution_count": 5,
     "metadata": {},
     "output_type": "execute_result"
    }
   ],
   "source": [
    "data"
   ]
  },
  {
   "cell_type": "markdown",
   "metadata": {},
   "source": [
    "<div class='exercise'><b> Part 1: Predictions with the RC  </b></div>\n",
    "Use the ESN from the pyESN library to employ an RC network. The task here is to predict two time points ahead by using the previous 1500 points and do that for 100 future points (check the figure below). So, in the end you will have a 100 time step prediction with prediction-window = 2. This will be your validation set.\n",
    "\n",
    "In this section you should use the following hyper-parameters:  \n",
    "- n_reservoir = 500\n",
    "- sparsity=0.2\n",
    "- random_state=23\n",
    "- spectral_radius=1.2\n",
    "- noise = 0.005\n",
    "\n",
    "<br> *Hint: Follow the mackey.ipynb example in pyESN*\n",
    "<img src=\"seq_prediction2.gif\">\n",
    "\n",
    "\n"
   ]
  },
  {
   "cell_type": "code",
   "execution_count": 21,
   "metadata": {},
   "outputs": [],
   "source": [
    "n_reservoir= 700\n",
    "sparsity=0.1\n",
    "rand_seed=23\n",
    "spectral_radius = 1.5\n",
    "noise = .00001\n",
    "\n",
    "\n",
    "esn = ESN(n_inputs = 1,\n",
    "      n_outputs = 1, \n",
    "      n_reservoir = n_reservoir,\n",
    "      sparsity=sparsity,\n",
    "      random_state=rand_seed,\n",
    "      spectral_radius = spectral_radius,\n",
    "      noise=noise)\n",
    "\n",
    "trainlen = 1500\n",
    "future = 10\n",
    "futureTotal=100\n",
    "pred_tot=np.zeros(futureTotal)\n",
    "\n",
    "for i in range(0,futureTotal,future):\n",
    "    pred_training = esn.fit(np.ones(trainlen),data[i:trainlen+i])\n",
    "    prediction = esn.predict(np.ones(future))\n",
    "    pred_tot[i:i+future] = prediction[:,0]"
   ]
  },
  {
   "cell_type": "markdown",
   "metadata": {},
   "source": [
    "Plot your prediction along with the ground truth (data) for the training and for the validation dataset"
   ]
  },
  {
   "cell_type": "code",
   "execution_count": 22,
   "metadata": {},
   "outputs": [],
   "source": [
    "import seaborn as sns\n",
    "from matplotlib import rc\n",
    "#rc('font',**{'family':'sans-serif','sans-serif':['Helvetica']})\n",
    "rc('text', usetex=False)"
   ]
  },
  {
   "cell_type": "code",
   "execution_count": 23,
   "metadata": {},
   "outputs": [
    {
     "data": {
      "image/png": "[encoded data removed]",
      "text/plain": [
       "<Figure size 1152x576 with 1 Axes>"
      ]
     },
     "metadata": {
      "needs_background": "light"
     },
     "output_type": "display_data"
    }
   ],
   "source": [
    "plt.figure(figsize=(16,8))\n",
    "plt.plot(range(1000,trainlen+futureTotal),data[1000:trainlen+futureTotal],'b',label=\"Data\", alpha=0.3)\n",
    "#plt.plot(range(0,trainlen),pred_training,'.g',  alpha=0.3)\n",
    "plt.plot(range(trainlen,trainlen+futureTotal),pred_tot,'k',  alpha=0.8, label='Free Running ESN')\n",
    "\n",
    "lo,hi = plt.ylim()\n",
    "plt.plot([trainlen,trainlen],[lo+np.spacing(1),hi-np.spacing(1)],'k:', linewidth=4)\n",
    "\n",
    "plt.title(r'Ground Truth and Echo State Network Output', fontsize=25)\n",
    "plt.xlabel(r'Time (Days)', fontsize=20,labelpad=10)\n",
    "plt.ylabel(r'Price ($)', fontsize=20,labelpad=10)\n",
    "plt.legend(fontsize='xx-large', loc='best')\n",
    "sns.despine()"
   ]
  },
  {
   "cell_type": "markdown",
   "metadata": {},
   "source": [
    "Comment on the computational complexity of the training and evaluation of the RC. "
   ]
  },
  {
   "cell_type": "markdown",
   "metadata": {},
   "source": [
    "The computational complexity for an RC is quite small comparing standard RNNs. The reason is that we essentially train only the the weights of the output layer, which is a linear layer, so the computational complexity is the same with a linear regression task. In particular, the training complexity is of the order O(N) where N is the number of hidden units located in the reservoir. This makes the training and the evaluation very fast."
   ]
  },
  {
   "cell_type": "markdown",
   "metadata": {},
   "source": [
    "<div class='exercise'><b> Part 2: Hyper-parameters optimization </b></div>\n",
    "We are asking you to find the optimal values for spectral_radius, noise  that gives the best prediction of this time series. In other words, we are looking for the hyper-parameters set that returns the minimum mean-square-error MSE. As previously, for each set of (spectral_radius, noise) you have to predict two time points ahead by using the previous 1500 points and do that for 100 steps as you did in part 1. These are essentially your validation set. Then calculate the MSE loss for the validation set and show through visualization which set gives the lowest MSE.\n",
    "<br>\n",
    "\n",
    "Hints:\n",
    "- Build a function for the MSE\n",
    "- Perform a grid search for the hyper parameters spectral_radius and noise\n",
    "- Use the ranges: spectrum_radius = [0.5, 1.5] and noise=[0.0001, 0.01]\n",
    "- For each set of (spectral_radius, noise) train the RC and make predictions as in part 1; these predictions are the validation sets\n",
    "- For each validation set calculate the MSE and store it\n",
    "- Make a 2D color plot to show the MSE for the different values of spectral_radius and noise"
   ]
  },
  {
   "cell_type": "markdown",
   "metadata": {},
   "source": [
    "**Build a function for the MSE**"
   ]
  },
  {
   "cell_type": "code",
   "execution_count": 39,
   "metadata": {},
   "outputs": [],
   "source": [
    "def MSE(yhat, y):\n",
    "    return np.sqrt(np.mean((yhat.flatten() - y)**2))"
   ]
  },
  {
   "cell_type": "markdown",
   "metadata": {},
   "source": [
    "**Perform a grid search**"
   ]
  },
  {
   "cell_type": "code",
   "execution_count": 40,
   "metadata": {},
   "outputs": [
    {
     "name": "stdout",
     "output_type": "stream",
     "text": [
      "('rho = ', 0.5, ', noise = ', 0.0001, ', MSE = ', 20.367056799629353)\n",
      "('rho = ', 0.5, ', noise = ', 0.0003, ', MSE = ', 22.44956008062169)\n",
      "('rho = ', 0.5, ', noise = ', 0.0007, ', MSE = ', 24.574909979223666)\n",
      "('rho = ', 0.5, ', noise = ', 0.001, ', MSE = ', 25.862558649155638)\n",
      "('rho = ', 0.5, ', noise = ', 0.003, ', MSE = ', 29.882933676750657)\n",
      "('rho = ', 0.5, ', noise = ', 0.005, ', MSE = ', 32.63942614291128)\n",
      "('rho = ', 0.5, ', noise = ', 0.007, ', MSE = ', 36.441245548726)\n",
      "('rho = ', 0.5, ', noise = ', 0.01, ', MSE = ', 44.77637915282457)\n",
      "('rho = ', 0.7, ', noise = ', 0.0001, ', MSE = ', 19.560517902720054)\n",
      "('rho = ', 0.7, ', noise = ', 0.0003, ', MSE = ', 20.12742795009036)\n",
      "('rho = ', 0.7, ', noise = ', 0.0007, ', MSE = ', 20.81801427735713)\n",
      "('rho = ', 0.7, ', noise = ', 0.001, ', MSE = ', 21.26142619965559)\n",
      "('rho = ', 0.7, ', noise = ', 0.003, ', MSE = ', 23.270880660885513)\n",
      "('rho = ', 0.7, ', noise = ', 0.005, ', MSE = ', 26.061347331527354)\n",
      "('rho = ', 0.7, ', noise = ', 0.007, ', MSE = ', 30.298361979419834)\n",
      "('rho = ', 0.7, ', noise = ', 0.01, ', MSE = ', 39.17074955771047)\n",
      "('rho = ', 0.9, ', noise = ', 0.0001, ', MSE = ', 18.612970860501118)\n",
      "('rho = ', 0.9, ', noise = ', 0.0003, ', MSE = ', 18.681815816990774)\n",
      "('rho = ', 0.9, ', noise = ', 0.0007, ', MSE = ', 18.835785386862582)\n",
      "('rho = ', 0.9, ', noise = ', 0.001, ', MSE = ', 18.982346096338105)\n",
      "('rho = ', 0.9, ', noise = ', 0.003, ', MSE = ', 20.81632098844061)\n",
      "('rho = ', 0.9, ', noise = ', 0.005, ', MSE = ', 24.60968377490799)\n",
      "('rho = ', 0.9, ', noise = ', 0.007, ', MSE = ', 30.231007189936882)\n",
      "('rho = ', 0.9, ', noise = ', 0.01, ', MSE = ', 41.28587340583505)\n",
      "('rho = ', 1, ', noise = ', 0.0001, ', MSE = ', 18.23852181110818)\n",
      "('rho = ', 1, ', noise = ', 0.0003, ', MSE = ', 18.27010615150326)\n",
      "('rho = ', 1, ', noise = ', 0.0007, ', MSE = ', 18.36078059388596)\n",
      "('rho = ', 1, ', noise = ', 0.001, ', MSE = ', 18.47920006882226)\n",
      "('rho = ', 1, ', noise = ', 0.003, ', MSE = ', 20.613227951906246)\n",
      "('rho = ', 1, ', noise = ', 0.005, ', MSE = ', 25.153712109142973)\n",
      "('rho = ', 1, ', noise = ', 0.007, ', MSE = ', 31.700838835741898)\n",
      "('rho = ', 1, ', noise = ', 0.01, ', MSE = ', 44.23736750779224)\n",
      "('rho = ', 1.1, ', noise = ', 0.0001, ', MSE = ', 17.981571756431556)\n",
      "('rho = ', 1.1, ', noise = ', 0.0003, ', MSE = ', 18.009398312163942)\n",
      "('rho = ', 1.1, ', noise = ', 0.0007, ', MSE = ', 18.09054736889828)\n",
      "('rho = ', 1.1, ', noise = ', 0.001, ', MSE = ', 18.218795249276663)\n",
      "('rho = ', 1.1, ', noise = ', 0.003, ', MSE = ', 20.82610561349463)\n",
      "('rho = ', 1.1, ', noise = ', 0.005, ', MSE = ', 26.272452530336505)\n",
      "('rho = ', 1.1, ', noise = ', 0.007, ', MSE = ', 33.91532767431614)\n",
      "('rho = ', 1.1, ', noise = ', 0.01, ', MSE = ', 48.22002405965967)\n",
      "('rho = ', 1.3, ', noise = ', 0.0001, ', MSE = ', 17.72839068197909)\n",
      "('rho = ', 1.3, ', noise = ', 0.0003, ', MSE = ', 17.799908079894703)\n",
      "('rho = ', 1.3, ', noise = ', 0.0007, ', MSE = ', 17.92917208443474)\n",
      "('rho = ', 1.3, ', noise = ', 0.001, ', MSE = ', 18.143905288756557)\n",
      "('rho = ', 1.3, ', noise = ', 0.003, ', MSE = ', 22.20343747458126)\n",
      "('rho = ', 1.3, ', noise = ', 0.005, ', MSE = ', 30.05977704513729)\n",
      "('rho = ', 1.3, ', noise = ', 0.007, ', MSE = ', 40.56654468067572)\n",
      "('rho = ', 1.3, ', noise = ', 0.01, ', MSE = ', 59.43231026660687)\n",
      "('rho = ', 1.5, ', noise = ', 0.0001, ', MSE = ', 17.627409489404897)\n",
      "('rho = ', 1.5, ', noise = ', 0.0003, ', MSE = ', 17.835052829116567)\n",
      "('rho = ', 1.5, ', noise = ', 0.0007, ', MSE = ', 18.100099619981393)\n",
      "('rho = ', 1.5, ', noise = ', 0.001, ', MSE = ', 18.481406587483956)\n",
      "('rho = ', 1.5, ', noise = ', 0.003, ', MSE = ', 24.887601182697498)\n",
      "('rho = ', 1.5, ', noise = ', 0.005, ', MSE = ', 36.34166374510305)\n",
      "('rho = ', 1.5, ', noise = ', 0.007, ', MSE = ', 50.99612645577753)\n",
      "('rho = ', 1.5, ', noise = ', 0.01, ', MSE = ', 75.94229622771246)\n"
     ]
    }
   ],
   "source": [
    "n_reservoir= 500\n",
    "sparsity   = 0.2\n",
    "rand_seed  = 23\n",
    "radius_set = [0.9,  1,  1.1]\n",
    "noise_set = [ 0.001, 0.004, 0.006]\n",
    "\n",
    "radius_set = [0.5, 0.7, 0.9,  1,  1.1,1.3,1.5]\n",
    "noise_set = [ 0.0001, 0.0003,0.0007, 0.001, 0.003, 0.005, 0.007,0.01]\n",
    "\n",
    "\n",
    "\n",
    "radius_set_size  = len(radius_set)\n",
    "noise_set_size = len(noise_set)\n",
    "\n",
    "trainlen = 1500\n",
    "future = 2\n",
    "futureTotal= 100\n",
    "\n",
    "loss = np.zeros([radius_set_size, noise_set_size])\n",
    "\n",
    "for l in range(radius_set_size):\n",
    "    rho = radius_set[l]\n",
    "    for j in range(noise_set_size):\n",
    "        noise = noise_set[j]\n",
    "\n",
    "        pred_tot=np.zeros(futureTotal)\n",
    "\n",
    "        esn = ESN(n_inputs = 1,\n",
    "          n_outputs = 1, \n",
    "          n_reservoir = n_reservoir,\n",
    "          sparsity=sparsity,\n",
    "          random_state=rand_seed,\n",
    "          spectral_radius = rho,\n",
    "          noise=noise)\n",
    "\n",
    "        for i in range(0,futureTotal,future):\n",
    "            pred_training = esn.fit(np.ones(trainlen),data[i:trainlen+i])\n",
    "            prediction = esn.predict(np.ones(future))\n",
    "            pred_tot[i:i+future] = prediction[:,0]\n",
    "        \n",
    "        loss[l, j] = MSE(pred_tot, data[trainlen:trainlen+futureTotal])        \n",
    "        print('rho = ', radius_set[l], ', noise = ', noise_set[j], ', MSE = ', loss[l][j] )\n"
   ]
  },
  {
   "cell_type": "markdown",
   "metadata": {},
   "source": [
    "Make a 2D plot to show the MSE for the different values of spectral_radius and noise"
   ]
  },
  {
   "cell_type": "code",
   "execution_count": 50,
   "metadata": {},
   "outputs": [
    {
     "data": {
      "image/png": "[encoded data removed]",
      "text/plain": [
       "<Figure size 1152x576 with 2 Axes>"
      ]
     },
     "metadata": {
      "needs_background": "light"
     },
     "output_type": "display_data"
    }
   ],
   "source": [
    "plt.figure(figsize=(16,8))\n",
    "im = plt.imshow(loss.T, vmin=abs(loss).min(), vmax=abs(loss).max(), origin='lower',cmap='PuRd')\n",
    "plt.xticks(np.linspace(0,radius_set_size-1,radius_set_size), radius_set);\n",
    "plt.yticks(np.linspace(0,noise_set_size-1, noise_set_size), noise_set);\n",
    "plt.xlabel(r'$\\rho$', fontsize=16); plt.ylabel('noise', fontsize=16); \n",
    "\n",
    "# im.set_interpolation('bilinear')\n",
    "cb = plt.colorbar(im); "
   ]
  },
  {
   "cell_type": "markdown",
   "metadata": {},
   "source": [
    "What is the optimal set? "
   ]
  },
  {
   "cell_type": "code",
   "execution_count": 42,
   "metadata": {},
   "outputs": [
    {
     "name": "stdout",
     "output_type": "stream",
     "text": [
      "('The optimal set is:\\nspectrum radius = ', 1.5, '\\nnoise = ', 0.0001, '\\nMSE = ', 17.627409489404897)\n"
     ]
    }
   ],
   "source": [
    "minLoss = np.min(loss)\n",
    "index_min = np.where(loss == minLoss)\n",
    "index_min\n",
    "rho_opt = radius_set[int(index_min[0])]\n",
    "noise_opt = noise_set[int(index_min[1])]\n",
    "print('The optimal set is:\\nspectrum radius = ',\n",
    "      rho_opt,'\\nnoise = ',noise_opt,'\\nMSE = ',minLoss)"
   ]
  },
  {
   "cell_type": "markdown",
   "metadata": {},
   "source": [
    "<div class='exercise'><b> Explore the RC ability in long predictions </b></div>\n",
    "\n",
    "In the previous section you made predictions for two time points ahead by using the previous 1500 points and for 100 future points in total. In this section we are asking to explore if the prediction window (we used 2 in part 1 and part 2) affects the predictability. Using the optimal hyper parameters you found in part 2, perform the analysis for windows: 1, 2, 5, and 10. Does the MSE in the validation set depends on this window? \n",
    "<br>\n",
    "\n",
    "**Hints:**\n",
    "\n",
    "- Use the optimal set of hyper parameters that you found on part 2\n",
    "- For this set repeat the calculation of the part 1 for different prediction windows and for the optimal window. In particular, instead of predicting two time points ahead you have to predict for 1, 2, 5, 10.\n",
    "- For each prediction calculate the MSE in the validation set\n",
    "- Plot the MSE as a function of the prediction window\n",
    "- Comment  on your results (always!) "
   ]
  },
  {
   "cell_type": "code",
   "execution_count": 43,
   "metadata": {},
   "outputs": [],
   "source": [
    "n_reservoir= 500\n",
    "sparsity=0.2\n",
    "rand_seed=23\n",
    "spectral_radius = 1.1\n",
    "noise = .0001\n",
    "\n",
    "# let k_set be an array with the prediction-window values\n",
    "k_set = [1,2,5,10]\n",
    "\n",
    "k_size = len(k_set)\n",
    "loss_k = np.zeros(k_size)\n",
    "\n",
    "for l in range(k_size):\n",
    "    future = k_set[l]\n",
    "\n",
    "    trainlen = 1500    \n",
    "    futureTotal=100\n",
    "    \n",
    "    pred_tot=np.zeros(futureTotal)\n",
    "\n",
    "    esn = ESN(n_inputs = 1,\n",
    "          n_outputs = 1, \n",
    "          n_reservoir = n_reservoir,\n",
    "          sparsity=sparsity,\n",
    "          random_state=rand_seed,\n",
    "          spectral_radius = spectral_radius,\n",
    "          noise=noise)\n",
    "\n",
    "\n",
    "    for i in range(0,futureTotal,future):\n",
    "        pred_training = esn.fit(np.ones(trainlen),data[i:trainlen+i])\n",
    "        prediction = esn.predict(np.ones(future))\n",
    "        pred_tot[i:i+future] = prediction[:,0]\n",
    "        \n",
    "    loss_k[l] = MSE(pred_tot, data[trainlen:trainlen+futureTotal])   "
   ]
  },
  {
   "cell_type": "markdown",
   "metadata": {},
   "source": [
    "Plot the MSE as a function of the prediction window"
   ]
  },
  {
   "cell_type": "code",
   "execution_count": 54,
   "metadata": {},
   "outputs": [
    {
     "data": {
      "image/png": "[encoded data removed]",
      "text/plain": [
       "<Figure size 1008x576 with 1 Axes>"
      ]
     },
     "metadata": {
      "needs_background": "light"
     },
     "output_type": "display_data"
    }
   ],
   "source": [
    "plt.figure(figsize=(14,8))\n",
    "plt.plot(k_set, loss_k,'-ok', alpha=0.6)\n",
    "plt.title('MSE as a Function of Window Length', fontsize=20)\n",
    "plt.xlabel('Window Length', fontsize=18)\n",
    "plt.ylabel('MSE', fontsize=18)\n",
    "sns.despine()"
   ]
  },
  {
   "cell_type": "markdown",
   "metadata": {},
   "source": [
    "How does the predictability depend on the length of the prediction? "
   ]
  },
  {
   "cell_type": "markdown",
   "metadata": {},
   "source": [
    "In the future predictions the error propagates in time and thus it increases in time. This is the reason that as longer is a prediction as more difficult to make it. We can see this behavior in the plot above, where the MSE is an increasing monotonically function of the prediction-window, hence longer predictions mean larger MSE."
   ]
  }
 ],
 "metadata": {
  "kernelspec": {
   "display_name": "Python 3",
   "language": "python",
   "name": "python3"
  },
  "language_info": {
   "codemirror_mode": {
    "name": "ipython",
    "version": 3
   },
   "file_extension": ".py",
   "mimetype": "text/x-python",
   "name": "python",
   "nbconvert_exporter": "python",
   "pygments_lexer": "ipython3",
   "version": "3.6.5"
  }
 },
 "nbformat": 4,
 "nbformat_minor": 1
}
